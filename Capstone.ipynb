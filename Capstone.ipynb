{
 "cells": [
  {
   "cell_type": "markdown",
   "metadata": {},
   "source": [
    "# Machine Learning Engineer Nanodegree"
   ]
  },
  {
   "cell_type": "markdown",
   "metadata": {},
   "source": [
    "### Capstone Project\n",
    "\n",
    "Deepika Kothapalli\n",
    "\n",
    "28th June 2018"
   ]
  },
  {
   "cell_type": "markdown",
   "metadata": {},
   "source": [
    "## Project : Using Supervised learning to determine whether a customer will subscribe to a Bank Campaign or not"
   ]
  },
  {
   "cell_type": "markdown",
   "metadata": {},
   "source": [
    "## Getting started :\n",
    "\n",
    "In this project I will take the data of the customers of the bank and determine whether they will subscribe for the campaign or not. I will classify the data into subscribed and not subscribed. My target variable is either 'yes' or 'no'. If the customer subscribes for the campaign output will be 'yes' otherwise 'no'. Here I will employ several supervised learning algorithms for classification and pick the one which provides good accuracy."
   ]
  },
  {
   "cell_type": "markdown",
   "metadata": {},
   "source": [
    "## Exploring data :\n",
    "\n",
    "Here Iam reading the data from the csv file using read_csv() and storing it into a data frame. Iam printing the first five records of the data to see how the data is."
   ]
  },
  {
   "cell_type": "code",
   "execution_count": 12,
   "metadata": {},
   "outputs": [
    {
     "data": {
      "text/html": [
       "<div>\n",
       "<style>\n",
       "    .dataframe thead tr:only-child th {\n",
       "        text-align: right;\n",
       "    }\n",
       "\n",
       "    .dataframe thead th {\n",
       "        text-align: left;\n",
       "    }\n",
       "\n",
       "    .dataframe tbody tr th {\n",
       "        vertical-align: top;\n",
       "    }\n",
       "</style>\n",
       "<table border=\"1\" class=\"dataframe\">\n",
       "  <thead>\n",
       "    <tr style=\"text-align: right;\">\n",
       "      <th></th>\n",
       "      <th>age</th>\n",
       "      <th>job</th>\n",
       "      <th>marital</th>\n",
       "      <th>education</th>\n",
       "      <th>default</th>\n",
       "      <th>balance</th>\n",
       "      <th>housing</th>\n",
       "      <th>loan</th>\n",
       "      <th>contact</th>\n",
       "      <th>day</th>\n",
       "      <th>month</th>\n",
       "      <th>duration</th>\n",
       "      <th>campaign</th>\n",
       "      <th>pdays</th>\n",
       "      <th>previous</th>\n",
       "      <th>poutcome</th>\n",
       "      <th>y</th>\n",
       "    </tr>\n",
       "  </thead>\n",
       "  <tbody>\n",
       "    <tr>\n",
       "      <th>0</th>\n",
       "      <td>30</td>\n",
       "      <td>unemployed</td>\n",
       "      <td>married</td>\n",
       "      <td>primary</td>\n",
       "      <td>no</td>\n",
       "      <td>1787</td>\n",
       "      <td>no</td>\n",
       "      <td>no</td>\n",
       "      <td>cellular</td>\n",
       "      <td>19</td>\n",
       "      <td>oct</td>\n",
       "      <td>79</td>\n",
       "      <td>1</td>\n",
       "      <td>-1</td>\n",
       "      <td>0</td>\n",
       "      <td>unknown</td>\n",
       "      <td>no</td>\n",
       "    </tr>\n",
       "    <tr>\n",
       "      <th>1</th>\n",
       "      <td>33</td>\n",
       "      <td>services</td>\n",
       "      <td>married</td>\n",
       "      <td>secondary</td>\n",
       "      <td>no</td>\n",
       "      <td>4789</td>\n",
       "      <td>yes</td>\n",
       "      <td>yes</td>\n",
       "      <td>cellular</td>\n",
       "      <td>11</td>\n",
       "      <td>may</td>\n",
       "      <td>220</td>\n",
       "      <td>1</td>\n",
       "      <td>339</td>\n",
       "      <td>4</td>\n",
       "      <td>failure</td>\n",
       "      <td>no</td>\n",
       "    </tr>\n",
       "    <tr>\n",
       "      <th>2</th>\n",
       "      <td>35</td>\n",
       "      <td>management</td>\n",
       "      <td>single</td>\n",
       "      <td>tertiary</td>\n",
       "      <td>no</td>\n",
       "      <td>1350</td>\n",
       "      <td>yes</td>\n",
       "      <td>no</td>\n",
       "      <td>cellular</td>\n",
       "      <td>16</td>\n",
       "      <td>apr</td>\n",
       "      <td>185</td>\n",
       "      <td>1</td>\n",
       "      <td>330</td>\n",
       "      <td>1</td>\n",
       "      <td>failure</td>\n",
       "      <td>no</td>\n",
       "    </tr>\n",
       "    <tr>\n",
       "      <th>3</th>\n",
       "      <td>30</td>\n",
       "      <td>management</td>\n",
       "      <td>married</td>\n",
       "      <td>tertiary</td>\n",
       "      <td>no</td>\n",
       "      <td>1476</td>\n",
       "      <td>yes</td>\n",
       "      <td>yes</td>\n",
       "      <td>unknown</td>\n",
       "      <td>3</td>\n",
       "      <td>jun</td>\n",
       "      <td>199</td>\n",
       "      <td>4</td>\n",
       "      <td>-1</td>\n",
       "      <td>0</td>\n",
       "      <td>unknown</td>\n",
       "      <td>no</td>\n",
       "    </tr>\n",
       "    <tr>\n",
       "      <th>4</th>\n",
       "      <td>59</td>\n",
       "      <td>blue-collar</td>\n",
       "      <td>married</td>\n",
       "      <td>secondary</td>\n",
       "      <td>no</td>\n",
       "      <td>0</td>\n",
       "      <td>yes</td>\n",
       "      <td>no</td>\n",
       "      <td>unknown</td>\n",
       "      <td>5</td>\n",
       "      <td>may</td>\n",
       "      <td>226</td>\n",
       "      <td>1</td>\n",
       "      <td>-1</td>\n",
       "      <td>0</td>\n",
       "      <td>unknown</td>\n",
       "      <td>no</td>\n",
       "    </tr>\n",
       "  </tbody>\n",
       "</table>\n",
       "</div>"
      ],
      "text/plain": [
       "   age          job  marital  education default  balance housing loan  \\\n",
       "0   30   unemployed  married    primary      no     1787      no   no   \n",
       "1   33     services  married  secondary      no     4789     yes  yes   \n",
       "2   35   management   single   tertiary      no     1350     yes   no   \n",
       "3   30   management  married   tertiary      no     1476     yes  yes   \n",
       "4   59  blue-collar  married  secondary      no        0     yes   no   \n",
       "\n",
       "    contact  day month  duration  campaign  pdays  previous poutcome   y  \n",
       "0  cellular   19   oct        79         1     -1         0  unknown  no  \n",
       "1  cellular   11   may       220         1    339         4  failure  no  \n",
       "2  cellular   16   apr       185         1    330         1  failure  no  \n",
       "3   unknown    3   jun       199         4     -1         0  unknown  no  \n",
       "4   unknown    5   may       226         1     -1         0  unknown  no  "
      ]
     },
     "metadata": {},
     "output_type": "display_data"
    }
   ],
   "source": [
    "import numpy as np\n",
    "import pandas as pd\n",
    "from time import time\n",
    "from IPython.display import display \n",
    "\n",
    "#good display for notebook\n",
    "%matplotlib inline\n",
    "\n",
    "# Load the bank dataset\n",
    "data = pd.read_csv(\"bank.csv\",sep=';')\n",
    "\n",
    "#Display the first five records\n",
    "display(data.head())"
   ]
  },
  {
   "cell_type": "markdown",
   "metadata": {},
   "source": [
    "## Implementation : Exploring data"
   ]
  },
  {
   "cell_type": "markdown",
   "metadata": {},
   "source": [
    "- The total number of records, `'records'`\n",
    "- The number of customers subscribed, `'subscribe'`.\n",
    "- The number of customers does not subscribe, `'unsubscribe'`.\n",
    "- The percentage of customers subscribed, `'subs_percen'`."
   ]
  },
  {
   "cell_type": "code",
   "execution_count": 13,
   "metadata": {},
   "outputs": [
    {
     "name": "stdout",
     "output_type": "stream",
     "text": [
      "Total number of records: 4521\n",
      "The number of customers subscribed: 521\n",
      "The number of customers does not subscribe: 4000\n",
      "The percentage of customers subscribed: 11.5239991152%\n"
     ]
    }
   ],
   "source": [
    "records = data.count()\n",
    "records=records['y']\n",
    "\n",
    "\n",
    "sub = data[(data['y']=='yes')].count()\n",
    "subscribe = sub['y']\n",
    "\n",
    "z = data[(data['y']=='no')].count()\n",
    "unsubscribe=z['y']\n",
    "\n",
    "subs_percen = (subscribe*100)/(records*1.0)\n",
    "\n",
    "# Print the results\n",
    "print(\"Total number of records: {}\".format(records))\n",
    "print(\"The number of customers subscribed: {}\".format(subscribe))\n",
    "print(\"The number of customers does not subscribe: {}\".format(unsubscribe))\n",
    "print(\"The percentage of customers subscribed: {}%\".format(subs_percen))"
   ]
  },
  {
   "cell_type": "markdown",
   "metadata": {},
   "source": [
    "## Features Description"
   ]
  },
  {
   "cell_type": "markdown",
   "metadata": {},
   "source": [
    "- age : age of the customer.\n",
    "- job : present occupation of the customer ('admin.','bluecollar','entrepreneur','housemaid','management','retired','self-employed','services','student','technician','unemployed','unknown')\n",
    "- marital : Marital status of the customer ('single','married','divorced','unknown')\n",
    "- default : whether the customer has a credit in default ('yes','no','unknown')\n",
    "- balance : current balance in the account \n",
    "- housing : whether the customer has housing loan ('yes','no','unknown')\n",
    "- loan :    whether the customer has personal loan ('yes','no','unknown')\n",
    "- contact : contact communication type ('cellular','telephone')\n",
    "- day : days before which the customer is contacted \n",
    "- month : last contact month of year ('jan', 'feb', 'mar', ..., 'nov', 'dec')\n",
    "- duration : last contact duration, in seconds\n",
    "- campaign : number of contacts performed during this campaign and for this client (numeric, includes last contact)\n",
    "- pdays : number of days that passed by after the client was last contacted from a previous campaign\n",
    "- previous : number of contacts performed before this campaign and for this client\n",
    "- poutcome : outcome of the previous contact ('success','failure','unknown')"
   ]
  },
  {
   "cell_type": "markdown",
   "metadata": {},
   "source": [
    "## Data Visualization "
   ]
  },
  {
   "cell_type": "code",
   "execution_count": 14,
   "metadata": {
    "scrolled": true
   },
   "outputs": [
    {
     "name": "stdout",
     "output_type": "stream",
     "text": [
      "AxesSubplot(0.125,0.670278;0.215278x0.209722)\n",
      "AxesSubplot(0.404861,0.670278;0.215278x0.209722)\n",
      "AxesSubplot(0.684722,0.670278;0.215278x0.209722)\n",
      "AxesSubplot(0.125,0.397639;0.215278x0.209722)\n",
      "AxesSubplot(0.404861,0.397639;0.215278x0.209722)\n",
      "AxesSubplot(0.684722,0.397639;0.215278x0.209722)\n",
      "AxesSubplot(0.125,0.125;0.215278x0.209722)\n",
      "AxesSubplot(0.404861,0.125;0.215278x0.209722)\n",
      "AxesSubplot(0.684722,0.125;0.215278x0.209722)\n"
     ]
    },
    {
     "data": {
      "image/png": "[encoded data removed]",
      "text/plain": [
       "<matplotlib.figure.Figure at 0xcb09210>"
      ]
     },
     "metadata": {},
     "output_type": "display_data"
    }
   ],
   "source": [
    "# Splitting the data into features and target label\n",
    "import matplotlib.pyplot as plt\n",
    "target = data['y']\n",
    "features_raw = data.drop('y', axis = 1)\n",
    "\n",
    "# To determine the distribution of features\n",
    "histogram=features_raw.hist(figsize=(15,15))\n",
    "for x in histogram.flatten():\n",
    "    print x"
   ]
  },
  {
   "cell_type": "code",
   "execution_count": 15,
   "metadata": {},
   "outputs": [
    {
     "data": {
      "text/plain": [
       "Text(0.5,1,u'Heatmap of Correlation Matrix')"
      ]
     },
     "execution_count": 15,
     "metadata": {},
     "output_type": "execute_result"
    },
    {
     "data": {
      "image/png": "[encoded data removed]",
      "text/plain": [
       "<matplotlib.figure.Figure at 0xd945ed0>"
      ]
     },
     "metadata": {},
     "output_type": "display_data"
    }
   ],
   "source": [
    "import seaborn as sns\n",
    "\n",
    "fig = plt.figure(figsize=(15,10))\n",
    "corr = data.corr()\n",
    "sns.heatmap(corr,annot=True,cmap='seismic',\n",
    "            xticklabels=corr.columns.values,\n",
    "            yticklabels=corr.columns.values)\n",
    "plt.title('Heatmap of Correlation Matrix')"
   ]
  },
  {
   "cell_type": "markdown",
   "metadata": {},
   "source": [
    "## Normalizing the data\n",
    "\n",
    "From the distributions above we can clearly say that there is skewness in the data.  To remove the skewness we need to normalize the data. First I will apply logarithmic transformation to reduce the range of values caused by outliers and then I will apply min_max_scaler to scale down the values between 0 and 1 for numeric data."
   ]
  },
  {
   "cell_type": "code",
   "execution_count": 16,
   "metadata": {},
   "outputs": [
    {
     "data": {
      "text/html": [
       "<div>\n",
       "<style>\n",
       "    .dataframe thead tr:only-child th {\n",
       "        text-align: right;\n",
       "    }\n",
       "\n",
       "    .dataframe thead th {\n",
       "        text-align: left;\n",
       "    }\n",
       "\n",
       "    .dataframe tbody tr th {\n",
       "        vertical-align: top;\n",
       "    }\n",
       "</style>\n",
       "<table border=\"1\" class=\"dataframe\">\n",
       "  <thead>\n",
       "    <tr style=\"text-align: right;\">\n",
       "      <th></th>\n",
       "      <th>age</th>\n",
       "      <th>job</th>\n",
       "      <th>marital</th>\n",
       "      <th>education</th>\n",
       "      <th>default</th>\n",
       "      <th>balance</th>\n",
       "      <th>housing</th>\n",
       "      <th>loan</th>\n",
       "      <th>contact</th>\n",
       "      <th>day</th>\n",
       "      <th>month</th>\n",
       "      <th>duration</th>\n",
       "      <th>campaign</th>\n",
       "      <th>pdays</th>\n",
       "      <th>previous</th>\n",
       "      <th>poutcome</th>\n",
       "    </tr>\n",
       "  </thead>\n",
       "  <tbody>\n",
       "    <tr>\n",
       "      <th>0</th>\n",
       "      <td>3.433987</td>\n",
       "      <td>unemployed</td>\n",
       "      <td>married</td>\n",
       "      <td>primary</td>\n",
       "      <td>no</td>\n",
       "      <td>7.488853</td>\n",
       "      <td>no</td>\n",
       "      <td>no</td>\n",
       "      <td>cellular</td>\n",
       "      <td>2.995732</td>\n",
       "      <td>oct</td>\n",
       "      <td>4.382027</td>\n",
       "      <td>0.693147</td>\n",
       "      <td>0.000000</td>\n",
       "      <td>0.000000</td>\n",
       "      <td>unknown</td>\n",
       "    </tr>\n",
       "    <tr>\n",
       "      <th>1</th>\n",
       "      <td>3.526361</td>\n",
       "      <td>services</td>\n",
       "      <td>married</td>\n",
       "      <td>secondary</td>\n",
       "      <td>no</td>\n",
       "      <td>8.474286</td>\n",
       "      <td>yes</td>\n",
       "      <td>yes</td>\n",
       "      <td>cellular</td>\n",
       "      <td>2.484907</td>\n",
       "      <td>may</td>\n",
       "      <td>5.398163</td>\n",
       "      <td>0.693147</td>\n",
       "      <td>5.828946</td>\n",
       "      <td>1.609438</td>\n",
       "      <td>failure</td>\n",
       "    </tr>\n",
       "    <tr>\n",
       "      <th>2</th>\n",
       "      <td>3.583519</td>\n",
       "      <td>management</td>\n",
       "      <td>single</td>\n",
       "      <td>tertiary</td>\n",
       "      <td>no</td>\n",
       "      <td>7.208600</td>\n",
       "      <td>yes</td>\n",
       "      <td>no</td>\n",
       "      <td>cellular</td>\n",
       "      <td>2.833213</td>\n",
       "      <td>apr</td>\n",
       "      <td>5.225747</td>\n",
       "      <td>0.693147</td>\n",
       "      <td>5.802118</td>\n",
       "      <td>0.693147</td>\n",
       "      <td>failure</td>\n",
       "    </tr>\n",
       "    <tr>\n",
       "      <th>3</th>\n",
       "      <td>3.433987</td>\n",
       "      <td>management</td>\n",
       "      <td>married</td>\n",
       "      <td>tertiary</td>\n",
       "      <td>no</td>\n",
       "      <td>7.297768</td>\n",
       "      <td>yes</td>\n",
       "      <td>yes</td>\n",
       "      <td>unknown</td>\n",
       "      <td>1.386294</td>\n",
       "      <td>jun</td>\n",
       "      <td>5.298317</td>\n",
       "      <td>1.609438</td>\n",
       "      <td>0.000000</td>\n",
       "      <td>0.000000</td>\n",
       "      <td>unknown</td>\n",
       "    </tr>\n",
       "    <tr>\n",
       "      <th>4</th>\n",
       "      <td>4.094345</td>\n",
       "      <td>blue-collar</td>\n",
       "      <td>married</td>\n",
       "      <td>secondary</td>\n",
       "      <td>no</td>\n",
       "      <td>0.000000</td>\n",
       "      <td>yes</td>\n",
       "      <td>no</td>\n",
       "      <td>unknown</td>\n",
       "      <td>1.791759</td>\n",
       "      <td>may</td>\n",
       "      <td>5.424950</td>\n",
       "      <td>0.693147</td>\n",
       "      <td>0.000000</td>\n",
       "      <td>0.000000</td>\n",
       "      <td>unknown</td>\n",
       "    </tr>\n",
       "  </tbody>\n",
       "</table>\n",
       "</div>"
      ],
      "text/plain": [
       "        age          job  marital  education default   balance housing loan  \\\n",
       "0  3.433987   unemployed  married    primary      no  7.488853      no   no   \n",
       "1  3.526361     services  married  secondary      no  8.474286     yes  yes   \n",
       "2  3.583519   management   single   tertiary      no  7.208600     yes   no   \n",
       "3  3.433987   management  married   tertiary      no  7.297768     yes  yes   \n",
       "4  4.094345  blue-collar  married  secondary      no  0.000000     yes   no   \n",
       "\n",
       "    contact       day month  duration  campaign     pdays  previous poutcome  \n",
       "0  cellular  2.995732   oct  4.382027  0.693147  0.000000  0.000000  unknown  \n",
       "1  cellular  2.484907   may  5.398163  0.693147  5.828946  1.609438  failure  \n",
       "2  cellular  2.833213   apr  5.225747  0.693147  5.802118  0.693147  failure  \n",
       "3   unknown  1.386294   jun  5.298317  1.609438  0.000000  0.000000  unknown  \n",
       "4   unknown  1.791759   may  5.424950  0.693147  0.000000  0.000000  unknown  "
      ]
     },
     "execution_count": 16,
     "metadata": {},
     "output_type": "execute_result"
    }
   ],
   "source": [
    "# Log-transform the skewed features\n",
    "features_raw['pdays']=features_raw['pdays'].map(lambda x:0 if x==-1 else x)\n",
    "features_raw['balance']=features_raw['balance'].map(lambda x:0 if (x < 0) else x)\n",
    "features_raw['balance']=features_raw['balance'].fillna(np.mean(features_raw['balance']))\n",
    "skewed = ['age','balance','day','duration','campaign','pdays','previous']\n",
    "features_log_transformed = pd.DataFrame(data = features_raw)\n",
    "features_log_transformed[skewed] = features_raw[skewed].apply(lambda x: np.log(x + 1))\n",
    "#features_raw.head()\n",
    "features_log_transformed.head()"
   ]
  },
  {
   "cell_type": "code",
   "execution_count": 17,
   "metadata": {},
   "outputs": [
    {
     "data": {
      "text/html": [
       "<div>\n",
       "<style>\n",
       "    .dataframe thead tr:only-child th {\n",
       "        text-align: right;\n",
       "    }\n",
       "\n",
       "    .dataframe thead th {\n",
       "        text-align: left;\n",
       "    }\n",
       "\n",
       "    .dataframe tbody tr th {\n",
       "        vertical-align: top;\n",
       "    }\n",
       "</style>\n",
       "<table border=\"1\" class=\"dataframe\">\n",
       "  <thead>\n",
       "    <tr style=\"text-align: right;\">\n",
       "      <th></th>\n",
       "      <th>age</th>\n",
       "      <th>job</th>\n",
       "      <th>marital</th>\n",
       "      <th>education</th>\n",
       "      <th>default</th>\n",
       "      <th>balance</th>\n",
       "      <th>housing</th>\n",
       "      <th>loan</th>\n",
       "      <th>contact</th>\n",
       "      <th>day</th>\n",
       "      <th>month</th>\n",
       "      <th>duration</th>\n",
       "      <th>campaign</th>\n",
       "      <th>pdays</th>\n",
       "      <th>previous</th>\n",
       "      <th>poutcome</th>\n",
       "    </tr>\n",
       "  </thead>\n",
       "  <tbody>\n",
       "    <tr>\n",
       "      <th>0</th>\n",
       "      <td>0.295798</td>\n",
       "      <td>unemployed</td>\n",
       "      <td>married</td>\n",
       "      <td>primary</td>\n",
       "      <td>no</td>\n",
       "      <td>0.670258</td>\n",
       "      <td>no</td>\n",
       "      <td>no</td>\n",
       "      <td>cellular</td>\n",
       "      <td>0.830482</td>\n",
       "      <td>oct</td>\n",
       "      <td>0.432841</td>\n",
       "      <td>0.000000</td>\n",
       "      <td>0.000000</td>\n",
       "      <td>0.000000</td>\n",
       "      <td>unknown</td>\n",
       "    </tr>\n",
       "    <tr>\n",
       "      <th>1</th>\n",
       "      <td>0.358144</td>\n",
       "      <td>services</td>\n",
       "      <td>married</td>\n",
       "      <td>secondary</td>\n",
       "      <td>no</td>\n",
       "      <td>0.758455</td>\n",
       "      <td>yes</td>\n",
       "      <td>yes</td>\n",
       "      <td>cellular</td>\n",
       "      <td>0.646241</td>\n",
       "      <td>may</td>\n",
       "      <td>0.591474</td>\n",
       "      <td>0.000000</td>\n",
       "      <td>0.860896</td>\n",
       "      <td>0.493981</td>\n",
       "      <td>failure</td>\n",
       "    </tr>\n",
       "    <tr>\n",
       "      <th>2</th>\n",
       "      <td>0.396723</td>\n",
       "      <td>management</td>\n",
       "      <td>single</td>\n",
       "      <td>tertiary</td>\n",
       "      <td>no</td>\n",
       "      <td>0.645175</td>\n",
       "      <td>yes</td>\n",
       "      <td>no</td>\n",
       "      <td>cellular</td>\n",
       "      <td>0.771866</td>\n",
       "      <td>apr</td>\n",
       "      <td>0.564558</td>\n",
       "      <td>0.000000</td>\n",
       "      <td>0.856934</td>\n",
       "      <td>0.212746</td>\n",
       "      <td>failure</td>\n",
       "    </tr>\n",
       "    <tr>\n",
       "      <th>3</th>\n",
       "      <td>0.295798</td>\n",
       "      <td>management</td>\n",
       "      <td>married</td>\n",
       "      <td>tertiary</td>\n",
       "      <td>no</td>\n",
       "      <td>0.653156</td>\n",
       "      <td>yes</td>\n",
       "      <td>yes</td>\n",
       "      <td>unknown</td>\n",
       "      <td>0.250000</td>\n",
       "      <td>jun</td>\n",
       "      <td>0.575887</td>\n",
       "      <td>0.282921</td>\n",
       "      <td>0.000000</td>\n",
       "      <td>0.000000</td>\n",
       "      <td>unknown</td>\n",
       "    </tr>\n",
       "    <tr>\n",
       "      <th>4</th>\n",
       "      <td>0.741502</td>\n",
       "      <td>blue-collar</td>\n",
       "      <td>married</td>\n",
       "      <td>secondary</td>\n",
       "      <td>no</td>\n",
       "      <td>0.000000</td>\n",
       "      <td>yes</td>\n",
       "      <td>no</td>\n",
       "      <td>unknown</td>\n",
       "      <td>0.396241</td>\n",
       "      <td>may</td>\n",
       "      <td>0.595656</td>\n",
       "      <td>0.000000</td>\n",
       "      <td>0.000000</td>\n",
       "      <td>0.000000</td>\n",
       "      <td>unknown</td>\n",
       "    </tr>\n",
       "  </tbody>\n",
       "</table>\n",
       "</div>"
      ],
      "text/plain": [
       "        age          job  marital  education default   balance housing loan  \\\n",
       "0  0.295798   unemployed  married    primary      no  0.670258      no   no   \n",
       "1  0.358144     services  married  secondary      no  0.758455     yes  yes   \n",
       "2  0.396723   management   single   tertiary      no  0.645175     yes   no   \n",
       "3  0.295798   management  married   tertiary      no  0.653156     yes  yes   \n",
       "4  0.741502  blue-collar  married  secondary      no  0.000000     yes   no   \n",
       "\n",
       "    contact       day month  duration  campaign     pdays  previous poutcome  \n",
       "0  cellular  0.830482   oct  0.432841  0.000000  0.000000  0.000000  unknown  \n",
       "1  cellular  0.646241   may  0.591474  0.000000  0.860896  0.493981  failure  \n",
       "2  cellular  0.771866   apr  0.564558  0.000000  0.856934  0.212746  failure  \n",
       "3   unknown  0.250000   jun  0.575887  0.282921  0.000000  0.000000  unknown  \n",
       "4   unknown  0.396241   may  0.595656  0.000000  0.000000  0.000000  unknown  "
      ]
     },
     "metadata": {},
     "output_type": "display_data"
    }
   ],
   "source": [
    "from sklearn.preprocessing import MinMaxScaler\n",
    "\n",
    "# Initialize a scaler, then apply it to the features\n",
    "scaler = MinMaxScaler() # default=(0, 1)\n",
    "numerical = ['age','balance','day','duration','pdays','campaign','previous']\n",
    "\n",
    "features_log_minmax_transform = pd.DataFrame(data = features_log_transformed)\n",
    "features_log_minmax_transform[numerical] = scaler.fit_transform(features_log_transformed[numerical])\n",
    "\n",
    "# Show an example of a record with scaling applied\n",
    "display(features_log_minmax_transform.head())"
   ]
  },
  {
   "cell_type": "markdown",
   "metadata": {},
   "source": [
    "## One hot encoding "
   ]
  },
  {
   "cell_type": "markdown",
   "metadata": {},
   "source": [
    "Some of the data is categorial.  Learning algorithms work well with numerical data than categorial data.  Hence we need to convert the categorial data to numeric data. One of the best techniques to convert categorical data to numeric data is one hot encoding. One-hot encoding creates a \"dummy\" variable for each possible category of each non-numeric feature."
   ]
  },
  {
   "cell_type": "code",
   "execution_count": 18,
   "metadata": {},
   "outputs": [
    {
     "data": {
      "text/html": [
       "<div>\n",
       "<style>\n",
       "    .dataframe thead tr:only-child th {\n",
       "        text-align: right;\n",
       "    }\n",
       "\n",
       "    .dataframe thead th {\n",
       "        text-align: left;\n",
       "    }\n",
       "\n",
       "    .dataframe tbody tr th {\n",
       "        vertical-align: top;\n",
       "    }\n",
       "</style>\n",
       "<table border=\"1\" class=\"dataframe\">\n",
       "  <thead>\n",
       "    <tr style=\"text-align: right;\">\n",
       "      <th></th>\n",
       "      <th>age</th>\n",
       "      <th>balance</th>\n",
       "      <th>day</th>\n",
       "      <th>duration</th>\n",
       "      <th>campaign</th>\n",
       "      <th>pdays</th>\n",
       "      <th>previous</th>\n",
       "      <th>job_admin.</th>\n",
       "      <th>job_blue-collar</th>\n",
       "      <th>job_entrepreneur</th>\n",
       "      <th>...</th>\n",
       "      <th>month_jun</th>\n",
       "      <th>month_mar</th>\n",
       "      <th>month_may</th>\n",
       "      <th>month_nov</th>\n",
       "      <th>month_oct</th>\n",
       "      <th>month_sep</th>\n",
       "      <th>poutcome_failure</th>\n",
       "      <th>poutcome_other</th>\n",
       "      <th>poutcome_success</th>\n",
       "      <th>poutcome_unknown</th>\n",
       "    </tr>\n",
       "  </thead>\n",
       "  <tbody>\n",
       "    <tr>\n",
       "      <th>0</th>\n",
       "      <td>0.295798</td>\n",
       "      <td>0.670258</td>\n",
       "      <td>0.830482</td>\n",
       "      <td>0.432841</td>\n",
       "      <td>0.000000</td>\n",
       "      <td>0.000000</td>\n",
       "      <td>0.000000</td>\n",
       "      <td>0</td>\n",
       "      <td>0</td>\n",
       "      <td>0</td>\n",
       "      <td>...</td>\n",
       "      <td>0</td>\n",
       "      <td>0</td>\n",
       "      <td>0</td>\n",
       "      <td>0</td>\n",
       "      <td>1</td>\n",
       "      <td>0</td>\n",
       "      <td>0</td>\n",
       "      <td>0</td>\n",
       "      <td>0</td>\n",
       "      <td>1</td>\n",
       "    </tr>\n",
       "    <tr>\n",
       "      <th>1</th>\n",
       "      <td>0.358144</td>\n",
       "      <td>0.758455</td>\n",
       "      <td>0.646241</td>\n",
       "      <td>0.591474</td>\n",
       "      <td>0.000000</td>\n",
       "      <td>0.860896</td>\n",
       "      <td>0.493981</td>\n",
       "      <td>0</td>\n",
       "      <td>0</td>\n",
       "      <td>0</td>\n",
       "      <td>...</td>\n",
       "      <td>0</td>\n",
       "      <td>0</td>\n",
       "      <td>1</td>\n",
       "      <td>0</td>\n",
       "      <td>0</td>\n",
       "      <td>0</td>\n",
       "      <td>1</td>\n",
       "      <td>0</td>\n",
       "      <td>0</td>\n",
       "      <td>0</td>\n",
       "    </tr>\n",
       "    <tr>\n",
       "      <th>2</th>\n",
       "      <td>0.396723</td>\n",
       "      <td>0.645175</td>\n",
       "      <td>0.771866</td>\n",
       "      <td>0.564558</td>\n",
       "      <td>0.000000</td>\n",
       "      <td>0.856934</td>\n",
       "      <td>0.212746</td>\n",
       "      <td>0</td>\n",
       "      <td>0</td>\n",
       "      <td>0</td>\n",
       "      <td>...</td>\n",
       "      <td>0</td>\n",
       "      <td>0</td>\n",
       "      <td>0</td>\n",
       "      <td>0</td>\n",
       "      <td>0</td>\n",
       "      <td>0</td>\n",
       "      <td>1</td>\n",
       "      <td>0</td>\n",
       "      <td>0</td>\n",
       "      <td>0</td>\n",
       "    </tr>\n",
       "    <tr>\n",
       "      <th>3</th>\n",
       "      <td>0.295798</td>\n",
       "      <td>0.653156</td>\n",
       "      <td>0.250000</td>\n",
       "      <td>0.575887</td>\n",
       "      <td>0.282921</td>\n",
       "      <td>0.000000</td>\n",
       "      <td>0.000000</td>\n",
       "      <td>0</td>\n",
       "      <td>0</td>\n",
       "      <td>0</td>\n",
       "      <td>...</td>\n",
       "      <td>1</td>\n",
       "      <td>0</td>\n",
       "      <td>0</td>\n",
       "      <td>0</td>\n",
       "      <td>0</td>\n",
       "      <td>0</td>\n",
       "      <td>0</td>\n",
       "      <td>0</td>\n",
       "      <td>0</td>\n",
       "      <td>1</td>\n",
       "    </tr>\n",
       "    <tr>\n",
       "      <th>4</th>\n",
       "      <td>0.741502</td>\n",
       "      <td>0.000000</td>\n",
       "      <td>0.396241</td>\n",
       "      <td>0.595656</td>\n",
       "      <td>0.000000</td>\n",
       "      <td>0.000000</td>\n",
       "      <td>0.000000</td>\n",
       "      <td>0</td>\n",
       "      <td>1</td>\n",
       "      <td>0</td>\n",
       "      <td>...</td>\n",
       "      <td>0</td>\n",
       "      <td>0</td>\n",
       "      <td>1</td>\n",
       "      <td>0</td>\n",
       "      <td>0</td>\n",
       "      <td>0</td>\n",
       "      <td>0</td>\n",
       "      <td>0</td>\n",
       "      <td>0</td>\n",
       "      <td>1</td>\n",
       "    </tr>\n",
       "  </tbody>\n",
       "</table>\n",
       "<p>5 rows × 51 columns</p>\n",
       "</div>"
      ],
      "text/plain": [
       "        age   balance       day  duration  campaign     pdays  previous  \\\n",
       "0  0.295798  0.670258  0.830482  0.432841  0.000000  0.000000  0.000000   \n",
       "1  0.358144  0.758455  0.646241  0.591474  0.000000  0.860896  0.493981   \n",
       "2  0.396723  0.645175  0.771866  0.564558  0.000000  0.856934  0.212746   \n",
       "3  0.295798  0.653156  0.250000  0.575887  0.282921  0.000000  0.000000   \n",
       "4  0.741502  0.000000  0.396241  0.595656  0.000000  0.000000  0.000000   \n",
       "\n",
       "   job_admin.  job_blue-collar  job_entrepreneur        ...         month_jun  \\\n",
       "0           0                0                 0        ...                 0   \n",
       "1           0                0                 0        ...                 0   \n",
       "2           0                0                 0        ...                 0   \n",
       "3           0                0                 0        ...                 1   \n",
       "4           0                1                 0        ...                 0   \n",
       "\n",
       "   month_mar  month_may  month_nov  month_oct  month_sep  poutcome_failure  \\\n",
       "0          0          0          0          1          0                 0   \n",
       "1          0          1          0          0          0                 1   \n",
       "2          0          0          0          0          0                 1   \n",
       "3          0          0          0          0          0                 0   \n",
       "4          0          1          0          0          0                 0   \n",
       "\n",
       "   poutcome_other  poutcome_success  poutcome_unknown  \n",
       "0               0                 0                 1  \n",
       "1               0                 0                 0  \n",
       "2               0                 0                 0  \n",
       "3               0                 0                 1  \n",
       "4               0                 0                 1  \n",
       "\n",
       "[5 rows x 51 columns]"
      ]
     },
     "execution_count": 18,
     "metadata": {},
     "output_type": "execute_result"
    }
   ],
   "source": [
    "#Converting the categorial features to numerical by creating dummies using one hot encoding\n",
    "features_final = pd.get_dummies(features_log_minmax_transform)\n",
    "\n",
    "#Converting the categorical target variable subscribed - 0 and unsubscribed - 1\n",
    "target = target.map(lambda x : 0 if x == 'no' else 1)\n",
    "features_final.head()"
   ]
  },
  {
   "cell_type": "markdown",
   "metadata": {},
   "source": [
    "## Feature Selection "
   ]
  },
  {
   "cell_type": "code",
   "execution_count": 19,
   "metadata": {
    "collapsed": true
   },
   "outputs": [],
   "source": [
    "# storing the associated ranks of the features.\n",
    "from sklearn.preprocessing import MinMaxScaler\n",
    "ranks = {}\n",
    "# Creating a function which stores the feature rankings to the ranks dictionary\n",
    "def ranking(ranks, names, order=1):\n",
    "    min_max = MinMaxScaler()\n",
    "    ranks = min_max.fit_transform(order*np.array([ranks]).T).T[0]\n",
    "    ranks = map(lambda m: round(m,4), ranks)\n",
    "    return dict(zip(names, ranks))"
   ]
  },
  {
   "cell_type": "code",
   "execution_count": 20,
   "metadata": {},
   "outputs": [
    {
     "name": "stdout",
     "output_type": "stream",
     "text": [
      "Fitting estimator with 51 features.\n",
      "Fitting estimator with 50 features.\n",
      "Fitting estimator with 49 features.\n",
      "Fitting estimator with 48 features.\n",
      "Fitting estimator with 47 features.\n",
      "Fitting estimator with 46 features.\n",
      "Fitting estimator with 45 features.\n",
      "Fitting estimator with 44 features.\n",
      "Fitting estimator with 43 features.\n",
      "Fitting estimator with 42 features.\n",
      "Fitting estimator with 41 features.\n",
      "Fitting estimator with 40 features.\n",
      "Fitting estimator with 39 features.\n",
      "Fitting estimator with 38 features.\n",
      "Fitting estimator with 37 features.\n",
      "Fitting estimator with 36 features.\n",
      "Fitting estimator with 35 features.\n",
      "Fitting estimator with 34 features.\n",
      "Fitting estimator with 33 features.\n",
      "Fitting estimator with 32 features.\n",
      "Fitting estimator with 31 features.\n",
      "Fitting estimator with 30 features.\n",
      "Fitting estimator with 29 features.\n",
      "Fitting estimator with 28 features.\n",
      "Fitting estimator with 27 features.\n",
      "Fitting estimator with 26 features.\n",
      "Fitting estimator with 25 features.\n",
      "Fitting estimator with 24 features.\n",
      "Fitting estimator with 23 features.\n",
      "Fitting estimator with 22 features.\n",
      "Fitting estimator with 21 features.\n",
      "Fitting estimator with 20 features.\n",
      "Fitting estimator with 19 features.\n",
      "Fitting estimator with 18 features.\n",
      "Fitting estimator with 17 features.\n",
      "Fitting estimator with 16 features.\n",
      "Fitting estimator with 15 features.\n",
      "Fitting estimator with 14 features.\n",
      "Fitting estimator with 13 features.\n",
      "Fitting estimator with 12 features.\n",
      "Fitting estimator with 11 features.\n",
      "Fitting estimator with 10 features.\n",
      "Fitting estimator with 9 features.\n",
      "Fitting estimator with 8 features.\n",
      "Fitting estimator with 7 features.\n",
      "Fitting estimator with 6 features.\n",
      "Fitting estimator with 5 features.\n",
      "Fitting estimator with 4 features.\n",
      "Fitting estimator with 3 features.\n",
      "Fitting estimator with 2 features.\n"
     ]
    }
   ],
   "source": [
    "# implementing feature selection using RFE\n",
    "f= features_final\n",
    "v = target\n",
    "# import RFE from sklearn.feature_selection\n",
    "from sklearn.feature_selection import RFE\n",
    "from sklearn.linear_model import LogisticRegression\n",
    "# using a linear regressor\n",
    "lr = LogisticRegression()\n",
    "\n",
    "# stop the search when only the last feature is left\n",
    "rfe = RFE(lr, n_features_to_select=1,verbose=3,step=1)\n",
    "\n",
    "rfe.fit(f,v)\n",
    "\n",
    "#print(rfe.ranking_)\n",
    "\n",
    "ranks[\"RFE\"] = ranking(list(map(float, rfe.ranking_)), data.columns, order=-1)\n"
   ]
  },
  {
   "cell_type": "code",
   "execution_count": 21,
   "metadata": {},
   "outputs": [
    {
     "data": {
      "text/html": [
       "<div>\n",
       "<style>\n",
       "    .dataframe thead tr:only-child th {\n",
       "        text-align: right;\n",
       "    }\n",
       "\n",
       "    .dataframe thead th {\n",
       "        text-align: left;\n",
       "    }\n",
       "\n",
       "    .dataframe tbody tr th {\n",
       "        vertical-align: top;\n",
       "    }\n",
       "</style>\n",
       "<table border=\"1\" class=\"dataframe\">\n",
       "  <thead>\n",
       "    <tr style=\"text-align: right;\">\n",
       "      <th></th>\n",
       "      <th>age</th>\n",
       "      <th>balance</th>\n",
       "      <th>day</th>\n",
       "      <th>duration</th>\n",
       "      <th>campaign</th>\n",
       "      <th>pdays</th>\n",
       "      <th>previous</th>\n",
       "      <th>job_admin.</th>\n",
       "      <th>job_blue-collar</th>\n",
       "      <th>job_entrepreneur</th>\n",
       "      <th>...</th>\n",
       "      <th>month_jun</th>\n",
       "      <th>month_mar</th>\n",
       "      <th>month_may</th>\n",
       "      <th>month_nov</th>\n",
       "      <th>month_oct</th>\n",
       "      <th>month_sep</th>\n",
       "      <th>poutcome_failure</th>\n",
       "      <th>poutcome_other</th>\n",
       "      <th>poutcome_success</th>\n",
       "      <th>poutcome_unknown</th>\n",
       "    </tr>\n",
       "  </thead>\n",
       "  <tbody>\n",
       "    <tr>\n",
       "      <th>0</th>\n",
       "      <td>0.295798</td>\n",
       "      <td>0.670258</td>\n",
       "      <td>0.830482</td>\n",
       "      <td>0.432841</td>\n",
       "      <td>0.000000</td>\n",
       "      <td>0.000000</td>\n",
       "      <td>0.000000</td>\n",
       "      <td>0</td>\n",
       "      <td>0</td>\n",
       "      <td>0</td>\n",
       "      <td>...</td>\n",
       "      <td>0</td>\n",
       "      <td>0</td>\n",
       "      <td>0</td>\n",
       "      <td>0</td>\n",
       "      <td>1</td>\n",
       "      <td>0</td>\n",
       "      <td>0</td>\n",
       "      <td>0</td>\n",
       "      <td>0</td>\n",
       "      <td>1</td>\n",
       "    </tr>\n",
       "    <tr>\n",
       "      <th>1</th>\n",
       "      <td>0.358144</td>\n",
       "      <td>0.758455</td>\n",
       "      <td>0.646241</td>\n",
       "      <td>0.591474</td>\n",
       "      <td>0.000000</td>\n",
       "      <td>0.860896</td>\n",
       "      <td>0.493981</td>\n",
       "      <td>0</td>\n",
       "      <td>0</td>\n",
       "      <td>0</td>\n",
       "      <td>...</td>\n",
       "      <td>0</td>\n",
       "      <td>0</td>\n",
       "      <td>1</td>\n",
       "      <td>0</td>\n",
       "      <td>0</td>\n",
       "      <td>0</td>\n",
       "      <td>1</td>\n",
       "      <td>0</td>\n",
       "      <td>0</td>\n",
       "      <td>0</td>\n",
       "    </tr>\n",
       "    <tr>\n",
       "      <th>2</th>\n",
       "      <td>0.396723</td>\n",
       "      <td>0.645175</td>\n",
       "      <td>0.771866</td>\n",
       "      <td>0.564558</td>\n",
       "      <td>0.000000</td>\n",
       "      <td>0.856934</td>\n",
       "      <td>0.212746</td>\n",
       "      <td>0</td>\n",
       "      <td>0</td>\n",
       "      <td>0</td>\n",
       "      <td>...</td>\n",
       "      <td>0</td>\n",
       "      <td>0</td>\n",
       "      <td>0</td>\n",
       "      <td>0</td>\n",
       "      <td>0</td>\n",
       "      <td>0</td>\n",
       "      <td>1</td>\n",
       "      <td>0</td>\n",
       "      <td>0</td>\n",
       "      <td>0</td>\n",
       "    </tr>\n",
       "    <tr>\n",
       "      <th>3</th>\n",
       "      <td>0.295798</td>\n",
       "      <td>0.653156</td>\n",
       "      <td>0.250000</td>\n",
       "      <td>0.575887</td>\n",
       "      <td>0.282921</td>\n",
       "      <td>0.000000</td>\n",
       "      <td>0.000000</td>\n",
       "      <td>0</td>\n",
       "      <td>0</td>\n",
       "      <td>0</td>\n",
       "      <td>...</td>\n",
       "      <td>1</td>\n",
       "      <td>0</td>\n",
       "      <td>0</td>\n",
       "      <td>0</td>\n",
       "      <td>0</td>\n",
       "      <td>0</td>\n",
       "      <td>0</td>\n",
       "      <td>0</td>\n",
       "      <td>0</td>\n",
       "      <td>1</td>\n",
       "    </tr>\n",
       "    <tr>\n",
       "      <th>4</th>\n",
       "      <td>0.741502</td>\n",
       "      <td>0.000000</td>\n",
       "      <td>0.396241</td>\n",
       "      <td>0.595656</td>\n",
       "      <td>0.000000</td>\n",
       "      <td>0.000000</td>\n",
       "      <td>0.000000</td>\n",
       "      <td>0</td>\n",
       "      <td>1</td>\n",
       "      <td>0</td>\n",
       "      <td>...</td>\n",
       "      <td>0</td>\n",
       "      <td>0</td>\n",
       "      <td>1</td>\n",
       "      <td>0</td>\n",
       "      <td>0</td>\n",
       "      <td>0</td>\n",
       "      <td>0</td>\n",
       "      <td>0</td>\n",
       "      <td>0</td>\n",
       "      <td>1</td>\n",
       "    </tr>\n",
       "  </tbody>\n",
       "</table>\n",
       "<p>5 rows × 51 columns</p>\n",
       "</div>"
      ],
      "text/plain": [
       "        age   balance       day  duration  campaign     pdays  previous  \\\n",
       "0  0.295798  0.670258  0.830482  0.432841  0.000000  0.000000  0.000000   \n",
       "1  0.358144  0.758455  0.646241  0.591474  0.000000  0.860896  0.493981   \n",
       "2  0.396723  0.645175  0.771866  0.564558  0.000000  0.856934  0.212746   \n",
       "3  0.295798  0.653156  0.250000  0.575887  0.282921  0.000000  0.000000   \n",
       "4  0.741502  0.000000  0.396241  0.595656  0.000000  0.000000  0.000000   \n",
       "\n",
       "   job_admin.  job_blue-collar  job_entrepreneur        ...         month_jun  \\\n",
       "0           0                0                 0        ...                 0   \n",
       "1           0                0                 0        ...                 0   \n",
       "2           0                0                 0        ...                 0   \n",
       "3           0                0                 0        ...                 1   \n",
       "4           0                1                 0        ...                 0   \n",
       "\n",
       "   month_mar  month_may  month_nov  month_oct  month_sep  poutcome_failure  \\\n",
       "0          0          0          0          1          0                 0   \n",
       "1          0          1          0          0          0                 1   \n",
       "2          0          0          0          0          0                 1   \n",
       "3          0          0          0          0          0                 0   \n",
       "4          0          1          0          0          0                 0   \n",
       "\n",
       "   poutcome_other  poutcome_success  poutcome_unknown  \n",
       "0               0                 0                 1  \n",
       "1               0                 0                 0  \n",
       "2               0                 0                 0  \n",
       "3               0                 0                 1  \n",
       "4               0                 0                 1  \n",
       "\n",
       "[5 rows x 51 columns]"
      ]
     },
     "execution_count": 21,
     "metadata": {},
     "output_type": "execute_result"
    }
   ],
   "source": [
    "features_final.head()"
   ]
  },
  {
   "cell_type": "code",
   "execution_count": 22,
   "metadata": {},
   "outputs": [
    {
     "data": {
      "text/plain": [
       "Index([u'age', u'balance', u'day', u'duration', u'campaign', u'pdays',\n",
       "       u'previous', u'job_admin.', u'job_blue-collar', u'job_entrepreneur',\n",
       "       u'job_housemaid', u'job_management', u'job_retired',\n",
       "       u'job_self-employed', u'job_services', u'job_student',\n",
       "       u'job_technician', u'job_unemployed', u'job_unknown',\n",
       "       u'marital_divorced', u'marital_married', u'marital_single',\n",
       "       u'education_primary', u'education_secondary', u'education_tertiary',\n",
       "       u'education_unknown', u'default_no', u'default_yes', u'housing_no',\n",
       "       u'housing_yes', u'loan_no', u'loan_yes', u'contact_cellular',\n",
       "       u'contact_telephone', u'contact_unknown', u'month_apr', u'month_aug',\n",
       "       u'month_dec', u'month_feb', u'month_jan', u'month_jul', u'month_jun',\n",
       "       u'month_mar', u'month_may', u'month_nov', u'month_oct', u'month_sep',\n",
       "       u'poutcome_failure', u'poutcome_other', u'poutcome_success',\n",
       "       u'poutcome_unknown'],\n",
       "      dtype='object')"
      ]
     },
     "metadata": {},
     "output_type": "display_data"
    }
   ],
   "source": [
    "display(features_final.columns)"
   ]
  },
  {
   "cell_type": "code",
   "execution_count": 23,
   "metadata": {},
   "outputs": [
    {
     "data": {
      "text/plain": [
       "array([26, 24, 36,  1, 15, 12, 23, 51, 31, 45, 42, 48, 22, 47, 46, 34, 44,\n",
       "       29, 32, 28, 25, 27, 39, 40, 41, 30,  9, 10,  4,  3,  8,  7, 37, 38,\n",
       "       13, 43, 33, 49, 50, 16, 18, 35,  5, 19, 17,  6, 14, 20, 21,  2, 11])"
      ]
     },
     "execution_count": 23,
     "metadata": {},
     "output_type": "execute_result"
    }
   ],
   "source": [
    "rfe.ranking_"
   ]
  },
  {
   "cell_type": "markdown",
   "metadata": {},
   "source": [
    "## Removing irrelevant attributes from the data set"
   ]
  },
  {
   "cell_type": "code",
   "execution_count": 24,
   "metadata": {},
   "outputs": [
    {
     "data": {
      "text/html": [
       "<div>\n",
       "<style>\n",
       "    .dataframe thead tr:only-child th {\n",
       "        text-align: right;\n",
       "    }\n",
       "\n",
       "    .dataframe thead th {\n",
       "        text-align: left;\n",
       "    }\n",
       "\n",
       "    .dataframe tbody tr th {\n",
       "        vertical-align: top;\n",
       "    }\n",
       "</style>\n",
       "<table border=\"1\" class=\"dataframe\">\n",
       "  <thead>\n",
       "    <tr style=\"text-align: right;\">\n",
       "      <th></th>\n",
       "      <th>age</th>\n",
       "      <th>balance</th>\n",
       "      <th>duration</th>\n",
       "      <th>campaign</th>\n",
       "      <th>pdays</th>\n",
       "      <th>job_admin.</th>\n",
       "      <th>job_blue-collar</th>\n",
       "      <th>job_entrepreneur</th>\n",
       "      <th>job_housemaid</th>\n",
       "      <th>job_management</th>\n",
       "      <th>...</th>\n",
       "      <th>default_no</th>\n",
       "      <th>default_yes</th>\n",
       "      <th>housing_no</th>\n",
       "      <th>housing_yes</th>\n",
       "      <th>loan_no</th>\n",
       "      <th>loan_yes</th>\n",
       "      <th>poutcome_failure</th>\n",
       "      <th>poutcome_other</th>\n",
       "      <th>poutcome_success</th>\n",
       "      <th>poutcome_unknown</th>\n",
       "    </tr>\n",
       "  </thead>\n",
       "  <tbody>\n",
       "    <tr>\n",
       "      <th>0</th>\n",
       "      <td>0.295798</td>\n",
       "      <td>0.670258</td>\n",
       "      <td>0.432841</td>\n",
       "      <td>0.000000</td>\n",
       "      <td>0.000000</td>\n",
       "      <td>0</td>\n",
       "      <td>0</td>\n",
       "      <td>0</td>\n",
       "      <td>0</td>\n",
       "      <td>0</td>\n",
       "      <td>...</td>\n",
       "      <td>1</td>\n",
       "      <td>0</td>\n",
       "      <td>1</td>\n",
       "      <td>0</td>\n",
       "      <td>1</td>\n",
       "      <td>0</td>\n",
       "      <td>0</td>\n",
       "      <td>0</td>\n",
       "      <td>0</td>\n",
       "      <td>1</td>\n",
       "    </tr>\n",
       "    <tr>\n",
       "      <th>1</th>\n",
       "      <td>0.358144</td>\n",
       "      <td>0.758455</td>\n",
       "      <td>0.591474</td>\n",
       "      <td>0.000000</td>\n",
       "      <td>0.860896</td>\n",
       "      <td>0</td>\n",
       "      <td>0</td>\n",
       "      <td>0</td>\n",
       "      <td>0</td>\n",
       "      <td>0</td>\n",
       "      <td>...</td>\n",
       "      <td>1</td>\n",
       "      <td>0</td>\n",
       "      <td>0</td>\n",
       "      <td>1</td>\n",
       "      <td>0</td>\n",
       "      <td>1</td>\n",
       "      <td>1</td>\n",
       "      <td>0</td>\n",
       "      <td>0</td>\n",
       "      <td>0</td>\n",
       "    </tr>\n",
       "    <tr>\n",
       "      <th>2</th>\n",
       "      <td>0.396723</td>\n",
       "      <td>0.645175</td>\n",
       "      <td>0.564558</td>\n",
       "      <td>0.000000</td>\n",
       "      <td>0.856934</td>\n",
       "      <td>0</td>\n",
       "      <td>0</td>\n",
       "      <td>0</td>\n",
       "      <td>0</td>\n",
       "      <td>1</td>\n",
       "      <td>...</td>\n",
       "      <td>1</td>\n",
       "      <td>0</td>\n",
       "      <td>0</td>\n",
       "      <td>1</td>\n",
       "      <td>1</td>\n",
       "      <td>0</td>\n",
       "      <td>1</td>\n",
       "      <td>0</td>\n",
       "      <td>0</td>\n",
       "      <td>0</td>\n",
       "    </tr>\n",
       "    <tr>\n",
       "      <th>3</th>\n",
       "      <td>0.295798</td>\n",
       "      <td>0.653156</td>\n",
       "      <td>0.575887</td>\n",
       "      <td>0.282921</td>\n",
       "      <td>0.000000</td>\n",
       "      <td>0</td>\n",
       "      <td>0</td>\n",
       "      <td>0</td>\n",
       "      <td>0</td>\n",
       "      <td>1</td>\n",
       "      <td>...</td>\n",
       "      <td>1</td>\n",
       "      <td>0</td>\n",
       "      <td>0</td>\n",
       "      <td>1</td>\n",
       "      <td>0</td>\n",
       "      <td>1</td>\n",
       "      <td>0</td>\n",
       "      <td>0</td>\n",
       "      <td>0</td>\n",
       "      <td>1</td>\n",
       "    </tr>\n",
       "    <tr>\n",
       "      <th>4</th>\n",
       "      <td>0.741502</td>\n",
       "      <td>0.000000</td>\n",
       "      <td>0.595656</td>\n",
       "      <td>0.000000</td>\n",
       "      <td>0.000000</td>\n",
       "      <td>0</td>\n",
       "      <td>1</td>\n",
       "      <td>0</td>\n",
       "      <td>0</td>\n",
       "      <td>0</td>\n",
       "      <td>...</td>\n",
       "      <td>1</td>\n",
       "      <td>0</td>\n",
       "      <td>0</td>\n",
       "      <td>1</td>\n",
       "      <td>1</td>\n",
       "      <td>0</td>\n",
       "      <td>0</td>\n",
       "      <td>0</td>\n",
       "      <td>0</td>\n",
       "      <td>1</td>\n",
       "    </tr>\n",
       "  </tbody>\n",
       "</table>\n",
       "<p>5 rows × 34 columns</p>\n",
       "</div>"
      ],
      "text/plain": [
       "        age   balance  duration  campaign     pdays  job_admin.  \\\n",
       "0  0.295798  0.670258  0.432841  0.000000  0.000000           0   \n",
       "1  0.358144  0.758455  0.591474  0.000000  0.860896           0   \n",
       "2  0.396723  0.645175  0.564558  0.000000  0.856934           0   \n",
       "3  0.295798  0.653156  0.575887  0.282921  0.000000           0   \n",
       "4  0.741502  0.000000  0.595656  0.000000  0.000000           0   \n",
       "\n",
       "   job_blue-collar  job_entrepreneur  job_housemaid  job_management  \\\n",
       "0                0                 0              0               0   \n",
       "1                0                 0              0               0   \n",
       "2                0                 0              0               1   \n",
       "3                0                 0              0               1   \n",
       "4                1                 0              0               0   \n",
       "\n",
       "         ...         default_no  default_yes  housing_no  housing_yes  \\\n",
       "0        ...                  1            0           1            0   \n",
       "1        ...                  1            0           0            1   \n",
       "2        ...                  1            0           0            1   \n",
       "3        ...                  1            0           0            1   \n",
       "4        ...                  1            0           0            1   \n",
       "\n",
       "   loan_no  loan_yes  poutcome_failure  poutcome_other  poutcome_success  \\\n",
       "0        1         0                 0               0                 0   \n",
       "1        0         1                 1               0                 0   \n",
       "2        1         0                 1               0                 0   \n",
       "3        0         1                 0               0                 0   \n",
       "4        1         0                 0               0                 0   \n",
       "\n",
       "   poutcome_unknown  \n",
       "0                 1  \n",
       "1                 0  \n",
       "2                 0  \n",
       "3                 1  \n",
       "4                 1  \n",
       "\n",
       "[5 rows x 34 columns]"
      ]
     },
     "execution_count": 24,
     "metadata": {},
     "output_type": "execute_result"
    }
   ],
   "source": [
    "# drop the columns which are found irrelevant\n",
    "features_final_removed = ['day','previous','contact_cellular','contact_telephone','contact_unknown','month_jan','month_feb','month_mar','month_apr','month_may','month_jun','month_jul','month_aug','month_sep','month_oct','month_nov','month_dec']\n",
    "for i in features_final_removed:\n",
    "    features_final = features_final.drop(i,axis=1)\n",
    "features_final.head(5)"
   ]
  },
  {
   "cell_type": "markdown",
   "metadata": {},
   "source": [
    "## Data shuffling and splitting\n",
    "\n",
    "Total data is splitted into 80% of the training data and 20% of the testing data. "
   ]
  },
  {
   "cell_type": "code",
   "execution_count": 25,
   "metadata": {},
   "outputs": [
    {
     "name": "stdout",
     "output_type": "stream",
     "text": [
      "Training set has 3616 samples.\n",
      "Testing set has 905 samples.\n"
     ]
    }
   ],
   "source": [
    "from sklearn.cross_validation import train_test_split\n",
    "\n",
    "# Split the 'features' and 'income' data into training and testing sets\n",
    "X_train, X_test, y_train, y_test = train_test_split(features_final,  target,  test_size = 0.2, random_state = 0)\n",
    "\n",
    "# Show the results of the split\n",
    "print(\"Training set has {} samples.\".format(X_train.shape[0]))\n",
    "print(\"Testing set has {} samples.\".format(X_test.shape[0]))"
   ]
  },
  {
   "cell_type": "markdown",
   "metadata": {},
   "source": [
    "## Evaluation metrics\n",
    "\n",
    "- Accuracy and f-beta score are used as evaluation metrics.\n",
    "\n",
    "** Accuracy :** It determines the proportion of correct predicts among all the predictions\n",
    "        \n",
    "        Accuracy= TP+TN/(TP+TN+FP+FN)\n",
    "        \n",
    "Where True positives and True Negatives are the correct predictions. False positives and False negatives are wrong predictions.\n",
    "\n",
    "**Precision :** It determines among all the customers that are predicted as subscribed to the campaign who are actually subscribed.\n",
    "\n",
    "        Precision=TP/(TP+FP)\n",
    "\n",
    "**Recall :**  Recall determines the proportion of subscribed customers correctly predicted among the actual subscribed customers.\n",
    "        Recall=TP/(TP+FN)\n",
    "            \n",
    "**F-Beta score : ** F-beta score is the weighted harmonic mean of precision and recall. \n",
    "\n",
    "    β F-beta=(1+ β2) *precision *recall/( β2*precision+recall)\n"
   ]
  },
  {
   "cell_type": "code",
   "execution_count": 68,
   "metadata": {
    "collapsed": true
   },
   "outputs": [],
   "source": [
    "def accuracy_scorer(y_true,y_pred):\n",
    "    from sklearn.metrics import accuracy_score\n",
    "    score = accuracy_score(y_true,y_pred)\n",
    "    return score"
   ]
  },
  {
   "cell_type": "code",
   "execution_count": 69,
   "metadata": {
    "collapsed": true
   },
   "outputs": [],
   "source": [
    "def fbeta_scorer(y_true,y_pred):\n",
    "    from sklearn.metrics import fbeta_score\n",
    "    score = fbeta_score(y_true,y_pred,beta=0.1)\n",
    "    return score"
   ]
  },
  {
   "cell_type": "markdown",
   "metadata": {},
   "source": [
    "## Benchmark model"
   ]
  },
  {
   "cell_type": "markdown",
   "metadata": {},
   "source": [
    "### Logistic regression"
   ]
  },
  {
   "cell_type": "code",
   "execution_count": 70,
   "metadata": {},
   "outputs": [
    {
     "name": "stdout",
     "output_type": "stream",
     "text": [
      "Accuracy score for logistic regression : 0.892817679558\n",
      "f-score for logistic regression :0.663871260199\n"
     ]
    }
   ],
   "source": [
    "from sklearn import linear_model\n",
    "l =  linear_model.LogisticRegression(random_state=20)\n",
    "l_fit = l.fit(X_train,y_train)\n",
    "l_pred = l_fit.predict(X_test)\n",
    "score=accuracy_scorer(y_test,l_pred)\n",
    "f_score = fbeta_scorer(y_test,l_pred)\n",
    "\n",
    "print \"Accuracy score for logistic regression : {}\".format(score)\n",
    "print \"f-score for logistic regression :{}\".format(f_score)"
   ]
  },
  {
   "cell_type": "markdown",
   "metadata": {},
   "source": [
    "## Application of different supervised learning models"
   ]
  },
  {
   "cell_type": "markdown",
   "metadata": {},
   "source": [
    "### Decision tree classifier"
   ]
  },
  {
   "cell_type": "code",
   "execution_count": 71,
   "metadata": {},
   "outputs": [
    {
     "name": "stdout",
     "output_type": "stream",
     "text": [
      "Accuracy score for DecisionTreeClassifier : 0.850828729282\n",
      "f-score for DecisionTreeClassifier :0.392341842397\n"
     ]
    }
   ],
   "source": [
    "from sklearn.tree import DecisionTreeClassifier\n",
    "\n",
    "dec_clf = DecisionTreeClassifier(random_state=100)\n",
    "dec_fit = dec_clf.fit(X_train,y_train)\n",
    "dec_pred = dec_fit.predict(X_test)\n",
    "dec_score = accuracy_scorer(y_test,dec_pred)\n",
    "dec_f_score = fbeta_scorer(y_test,dec_pred)\n",
    "\n",
    "print \"Accuracy score for DecisionTreeClassifier : {}\".format(dec_score)\n",
    "print \"f-score for DecisionTreeClassifier :{}\".format(dec_f_score)\n"
   ]
  },
  {
   "cell_type": "markdown",
   "metadata": {},
   "source": [
    "### Ada Boost classifier"
   ]
  },
  {
   "cell_type": "code",
   "execution_count": 72,
   "metadata": {},
   "outputs": [
    {
     "name": "stdout",
     "output_type": "stream",
     "text": [
      "Accuracy score for AdaBoostClassifier : 0.893922651934\n",
      "f-score for AdaBoostClassifier:0.605031948882\n"
     ]
    }
   ],
   "source": [
    "from sklearn.ensemble import AdaBoostClassifier\n",
    "ada_clf=AdaBoostClassifier(random_state=20)\n",
    "ada_fit=ada_clf.fit(X_train,y_train)\n",
    "ada_pred=ada_fit.predict(X_test)\n",
    "ada_score=accuracy_scorer(y_test,ada_pred)\n",
    "ada_f_score=fbeta_scorer(y_test,ada_pred)\n",
    "\n",
    "print \"Accuracy score for AdaBoostClassifier : {}\".format(ada_score)\n",
    "print \"f-score for AdaBoostClassifier:{}\".format(ada_f_score)"
   ]
  },
  {
   "cell_type": "markdown",
   "metadata": {},
   "source": [
    "### Gradient Boost Classifier"
   ]
  },
  {
   "cell_type": "code",
   "execution_count": 73,
   "metadata": {},
   "outputs": [
    {
     "name": "stdout",
     "output_type": "stream",
     "text": [
      "Accuracy score for GradientBoostingClassifier : 0.891712707182\n",
      "f-score for GradientBoostingClassifier:0.593955142232\n"
     ]
    }
   ],
   "source": [
    "from sklearn.ensemble import GradientBoostingClassifier\n",
    "\n",
    "gbc_clf = GradientBoostingClassifier(random_state=20)\n",
    "gbc_fit = gbc_clf.fit(X_train,y_train)\n",
    "gbc_pred = gbc_clf.predict(X_test)\n",
    "\n",
    "gbc_score = accuracy_scorer(y_test,gbc_pred)\n",
    "gbc_f_score = fbeta_scorer(y_test,gbc_pred)\n",
    "\n",
    "print \"Accuracy score for GradientBoostingClassifier : {}\".format(gbc_score)\n",
    "print \"f-score for GradientBoostingClassifier:{}\".format(gbc_f_score)"
   ]
  },
  {
   "cell_type": "markdown",
   "metadata": {},
   "source": [
    "## Among the three models \n",
    "\n",
    "Among the three models DecisionTreeClassifier, AdaBoostClassifier, GradientBoostClasssifier AdaBoostClassifier has good accuracy and f-score after the benchmark model logistic regression. Hence, Iam optimizing this model to see if there is any further improvement when compared to logistic regression i.e., the benchmark model"
   ]
  },
  {
   "cell_type": "markdown",
   "metadata": {},
   "source": [
    "### Grid Search"
   ]
  },
  {
   "cell_type": "code",
   "execution_count": 99,
   "metadata": {},
   "outputs": [
    {
     "name": "stdout",
     "output_type": "stream",
     "text": [
      "0.895027624309\n",
      "0.616195230172\n"
     ]
    }
   ],
   "source": [
    "#applying GridSearch\n",
    "from sklearn.grid_search import GridSearchCV\n",
    "from sklearn.metrics import make_scorer,fbeta_score\n",
    "\n",
    "ada_clf = AdaBoostClassifier(random_state=0)\n",
    "\n",
    "#hyperparameters to be tuned.\n",
    "parameters = { 'n_estimators': [70,80, 90, 100, 110], 'learning_rate' :[.60,.70, .80, .90, .95] }\n",
    "\n",
    "\n",
    "scorer = make_scorer(fbeta_score,beta=0.1)\n",
    "\n",
    "grid_obj = GridSearchCV(estimator=ada_clf,param_grid=parameters,scoring=scorer)\n",
    "\n",
    "\n",
    "grid_fit =grid_obj.fit(X_train, y_train)\n",
    "\n",
    "\n",
    "best_clf = grid_fit.best_estimator_\n",
    "\n",
    "best_pred = best_clf.predict(X_test)\n",
    "\n",
    "best_score_ada = accuracy_scorer(y_test,best_pred)\n",
    "best_f_score_ada = fbeta_scorer(y_test,best_pred)\n",
    "\n",
    "print best_score_ada\n",
    "print best_f_score_ada"
   ]
  },
  {
   "cell_type": "markdown",
   "metadata": {
    "collapsed": true
   },
   "source": [
    "## Best Model"
   ]
  },
  {
   "cell_type": "markdown",
   "metadata": {},
   "source": [
    "Eventhough the accuracy score and f-score of AdaBoostClassifier has increased slightly after optimizing using GridSearch. But it is not high when compared to logistic regression. Hence, I pick logistic regression as the best model for this data."
   ]
  },
  {
   "cell_type": "markdown",
   "metadata": {},
   "source": [
    "## Applying GridSearch on the best model"
   ]
  },
  {
   "cell_type": "code",
   "execution_count": 100,
   "metadata": {},
   "outputs": [
    {
     "name": "stdout",
     "output_type": "stream",
     "text": [
      "The final accuracy of the best model is 0.889502762431\n",
      "The final f-score of the best model is 0.868386243386\n"
     ]
    }
   ],
   "source": [
    "from sklearn import linear_model\n",
    "\n",
    "clf = linear_model.LogisticRegression(random_state=20)\n",
    "\n",
    "parameters = {'C':[0.0001,0.001,0.01,0.1]}\n",
    "\n",
    "\n",
    "scorer = make_scorer(fbeta_score,beta=0.5)\n",
    "\n",
    "grid_obj = GridSearchCV(estimator=clf,param_grid=parameters,scoring=scorer)\n",
    "\n",
    "grid_fit =grid_obj.fit(X_train, y_train)\n",
    "\n",
    "best_clf = grid_fit.best_estimator_\n",
    "\n",
    "best_pred = best_clf.predict(X_test)\n",
    "\n",
    "best_score_logistic = accuracy_scorer(y_test,best_pred)\n",
    "best_f_score_logistic = fbeta_scorer(y_test,best_pred)\n",
    "\n",
    "print \"The final accuracy of the best model is {}\".format(best_score_logistic)\n",
    "print \"The final f-score of the best model is {}\".format(best_f_score_logistic)\n"
   ]
  },
  {
   "cell_type": "markdown",
   "metadata": {},
   "source": [
    "## Accuracy and F-score Visualization before optimization"
   ]
  },
  {
   "cell_type": "code",
   "execution_count": 101,
   "metadata": {},
   "outputs": [
    {
     "data": {
      "image/png": "[encoded data removed]",
      "text/plain": [
       "<matplotlib.figure.Figure at 0xebe3b70>"
      ]
     },
     "metadata": {},
     "output_type": "display_data"
    },
    {
     "data": {
      "image/png": "[encoded data removed]",
      "text/plain": [
       "<matplotlib.figure.Figure at 0xe1dc5b0>"
      ]
     },
     "metadata": {},
     "output_type": "display_data"
    }
   ],
   "source": [
    "import matplotlib.pyplot as plt\n",
    "x = []\n",
    "x.append(score)\n",
    "x.append(dec_score)\n",
    "x.append(ada_score)\n",
    "x.append(gbc_score)\n",
    "x=np.array(x)\n",
    "\n",
    "y = np.arange(4)\n",
    "plt.title('Accuracy')\n",
    "plt.bar(y,x )\n",
    "plt.xticks(y, ('logistic', 'Decision', 'Ada boost', 'Gradient boost'))\n",
    "plt.show()\n",
    "\n",
    "x = []\n",
    "x.append(f_score)\n",
    "x.append(dec_f_score)\n",
    "x.append(ada_f_score)\n",
    "x.append(gbc_f_score)\n",
    "x=np.array(x)\n",
    "y = np.arange(4)\n",
    "plt.title('f_score')\n",
    "plt.bar(y,x )\n",
    "plt.xticks(y, ('logistic', 'Decision', 'Ada boost', 'Gradient boost'))\n",
    "plt.show()\n"
   ]
  },
  {
   "cell_type": "markdown",
   "metadata": {},
   "source": [
    "## Accuracy and F-score Visualization after optimization"
   ]
  },
  {
   "cell_type": "code",
   "execution_count": 102,
   "metadata": {},
   "outputs": [
    {
     "data": {
      "image/png": "[encoded data removed]",
      "text/plain": [
       "<matplotlib.figure.Figure at 0xef997d0>"
      ]
     },
     "metadata": {},
     "output_type": "display_data"
    },
    {
     "data": {
      "image/png": "[encoded data removed]",
      "text/plain": [
       "<matplotlib.figure.Figure at 0x545a110>"
      ]
     },
     "metadata": {},
     "output_type": "display_data"
    }
   ],
   "source": [
    "x = []\n",
    "x.append(best_score_logistic)\n",
    "x.append(dec_score)\n",
    "x.append(best_score_ada)\n",
    "x.append(gbc_score)\n",
    "x=np.array(x)\n",
    "\n",
    "y = np.arange(4)\n",
    "plt.title('Accuracy')\n",
    "plt.bar(y,x )\n",
    "plt.xticks(y, ('logistic', 'Decision', 'Ada boost', 'Gradient boost'))\n",
    "plt.show()\n",
    "\n",
    "x = []\n",
    "x.append(best_f_score_logistic)\n",
    "x.append(dec_f_score)\n",
    "x.append(best_f_score_ada)\n",
    "x.append(gbc_f_score)\n",
    "x=np.array(x)\n",
    "y = np.arange(4)\n",
    "plt.title('f_score')\n",
    "plt.bar(y,x )\n",
    "plt.xticks(y, ('logistic', 'Decision', 'Ada boost', 'Gradient boost'))\n",
    "plt.show()"
   ]
  },
  {
   "cell_type": "code",
   "execution_count": null,
   "metadata": {
    "collapsed": true
   },
   "outputs": [],
   "source": []
  }
 ],
 "metadata": {
  "kernelspec": {
   "display_name": "Python 2",
   "language": "python",
   "name": "python2"
  },
  "language_info": {
   "codemirror_mode": {
    "name": "ipython",
    "version": 2
   },
   "file_extension": ".py",
   "mimetype": "text/x-python",
   "name": "python",
   "nbconvert_exporter": "python",
   "pygments_lexer": "ipython2",
   "version": "2.7.14"
  }
 },
 "nbformat": 4,
 "nbformat_minor": 2
}
